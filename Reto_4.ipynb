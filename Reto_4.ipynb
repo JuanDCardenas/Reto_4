{
 "cells": [
  {
   "cell_type": "code",
   "execution_count": 57,
   "metadata": {},
   "outputs": [
    {
     "name": "stdout",
     "output_type": "stream",
     "text": [
      "El número NO corresponde a el codigo ASCII de una vocal en minuscula\n"
     ]
    }
   ],
   "source": [
    "#punto1\n",
    "numero=int(input(\"Ingrese un número entero: \"))\n",
    "if str(chr(numero))==\"a\":\n",
    "    print(\"El número corresponde a el codigo ASCII de una vocal en minuscula\")\n",
    "elif str(chr(numero))==\"e\":\n",
    "    print(\"El número corresponde a el codigo ASCII de una vocal en minuscula\")\n",
    "elif str(chr(numero))==\"i\":\n",
    "    print(\"El número corresponde a el codigo ASCII de una vocal en minuscula\")\n",
    "elif str(chr(numero))==\"o\":\n",
    "    print(\"El número corresponde a el codigo ASCII de una vocal en minuscula\")\n",
    "elif str(chr(numero))==\"u\":\n",
    "    print(\"El número corresponde a el codigo ASCII de una vocal en minuscula\")\n",
    "else :\n",
    "    print(\"El número NO corresponde a el codigo ASCII de una vocal en minuscula\")"
   ]
  },
  {
   "cell_type": "code",
   "execution_count": 80,
   "metadata": {},
   "outputs": [
    {
     "name": "stdout",
     "output_type": "stream",
     "text": [
      "El ASCII de este caracter es par\n"
     ]
    }
   ],
   "source": [
    "#punto2\n",
    "cadena=str(input(\"Escribe un str de longitud uno:\" ))\n",
    "resultado:int=ord(cadena)\n",
    "if resultado%2==0:\n",
    "    print(\"El ASCII de este caracter es par\")\n",
    "else:\n",
    "    print(\"El ASCII de este caracter es impar\")\n"
   ]
  },
  {
   "cell_type": "code",
   "execution_count": 71,
   "metadata": {},
   "outputs": [
    {
     "name": "stdout",
     "output_type": "stream",
     "text": [
      "Este caracter NO corresponde a un digito\n"
     ]
    }
   ],
   "source": [
    "#punto3\n",
    "caracter=(input(\"Escribe un caracter: \"))\n",
    "resultado=ord(caracter)\n",
    "if resultado== 48:\n",
    "    print(\"Este caracter corresponde a un digito\")\n",
    "elif resultado== 49:\n",
    "    print(\"Este caracter corresponde a un digito\")\n",
    "elif resultado== 50:\n",
    "    print(\"Este caracter corresponde a un digito\")\n",
    "elif resultado== 51:\n",
    "    print(\"Este caracter corresponde a un digito\")\n",
    "elif resultado== 52:\n",
    "    print(\"Este caracter corresponde a un digito\")\n",
    "elif resultado== 53:\n",
    "    print(\"Este caracter corresponde a un digito\")\n",
    "elif resultado== 54:\n",
    "    print(\"Este caracter corresponde a un digito\")\n",
    "elif resultado== 55:\n",
    "    print(\"Este caracter corresponde a un digito\")\n",
    "elif resultado== 56:\n",
    "    print(\"Este caracter corresponde a un digito\")\n",
    "elif resultado== 57:\n",
    "    print(\"Este caracter corresponde a un digito\")\n",
    "else:\n",
    "    print(\"Este caracter NO corresponde a un digito\")"
   ]
  },
  {
   "cell_type": "code",
   "execution_count": 68,
   "metadata": {},
   "outputs": [
    {
     "name": "stdout",
     "output_type": "stream",
     "text": [
      "El número x es positivo\n"
     ]
    }
   ],
   "source": [
    "#punto4\n",
    "numero=float(input(\"Escriba un número x =  \"))\n",
    "if numero == 0:\n",
    "    print(\"El número x es el neutro para la suma\")\n",
    "elif numero > 0:\n",
    "    print(\"El número x es positivo\")\n",
    "else :\n",
    "    print(\"El número x es negativo\")"
   ]
  },
  {
   "cell_type": "code",
   "execution_count": 67,
   "metadata": {},
   "outputs": [
    {
     "name": "stdout",
     "output_type": "stream",
     "text": [
      "El punto esta dentro de la circunferencia\n"
     ]
    }
   ],
   "source": [
    "#punto5\n",
    "radio=float(input(\"Escribe el radio de la circunferencia: \"))\n",
    "centro_x=float(input(\"Escribe la coordenada en x del centro de la circunferencia: \"))\n",
    "centro_y=float(input(\"Escribe la coordenada en y del centro de la circunferencia: \"))\n",
    "punto_x=float(input(\"Escribe la coordenada en x de un punto del plano: \"))\n",
    "punto_y=float(input(\"Escribe la coordenada en y de ese punto del plano: \"))\n",
    "\n",
    "if (((centro_x-punto_x)**2+(centro_y-punto_y)**2)**(1/2))>radio:\n",
    "    print(\"El punto no esta dentro de la circunferencia\")\n",
    "else:\n",
    "    print(\"El punto esta dentro de la circunferencia\")"
   ]
  },
  {
   "cell_type": "code",
   "execution_count": 65,
   "metadata": {},
   "outputs": [
    {
     "name": "stdout",
     "output_type": "stream",
     "text": [
      "Con estas longitudes si se puede construir un triangulo\n"
     ]
    }
   ],
   "source": [
    "#punto6\n",
    "primer_lado=float(input(\"Escribe la longitud de un lado: \"))\n",
    "segundo_lado=float(input(\"Escribe la longitud de otro lado: \"))\n",
    "tercer_lado=float(input(\"Escribe la longitud de un ultimo lado: \"))\n",
    "\n",
    "if primer_lado==segundo_lado==tercer_lado:\n",
    "    print(\"Con estas longitudes si se puede construir un triangulo\")\n",
    "elif primer_lado>=segundo_lado and primer_lado>=tercer_lado:\n",
    "    if (segundo_lado+tercer_lado)<=primer_lado:\n",
    "        print(\"No se puede hacer un triangulo con estas medidas\")\n",
    "    else:\n",
    "        print(\"Con estas longitudes si se puede construir un triangulo\")\n",
    "elif segundo_lado>=primer_lado and segundo_lado>=tercer_lado:\n",
    "    if (primer_lado+tercer_lado)<=segundo_lado:\n",
    "        print(\"No se puede hacer un triangulo con estas medidas\")\n",
    "    else:\n",
    "        print(\"Con estas longitudes si se puede construir un triangulo\")\n",
    "elif tercer_lado>=primer_lado and tercer_lado>=segundo_lado:\n",
    "    if (segundo_lado+primer_lado)<=tercer_lado:\n",
    "        print(\"No se puede hacer un triangulo con estas medidas\")\n",
    "    else:\n",
    "        print(\"Con estas longitudes si se puede construir un triangulo\")"
   ]
  }
 ],
 "metadata": {
  "kernelspec": {
   "display_name": "Python 3",
   "language": "python",
   "name": "python3"
  },
  "language_info": {
   "codemirror_mode": {
    "name": "ipython",
    "version": 3
   },
   "file_extension": ".py",
   "mimetype": "text/x-python",
   "name": "python",
   "nbconvert_exporter": "python",
   "pygments_lexer": "ipython3",
   "version": "3.12.2"
  }
 },
 "nbformat": 4,
 "nbformat_minor": 2
}
